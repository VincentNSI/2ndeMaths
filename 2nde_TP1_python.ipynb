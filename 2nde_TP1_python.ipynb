{
 "cells": [
  {
   "cell_type": "markdown",
   "metadata": {},
   "source": [
    "## Exercice 1 : Variables, affectations\n",
    "Executer les intructions suivantes"
   ]
  },
  {
   "cell_type": "markdown",
   "metadata": {},
   "source": [
    "1/"
   ]
  },
  {
   "cell_type": "code",
   "execution_count": null,
   "metadata": {},
   "outputs": [],
   "source": [
    "a=4\n",
    "a=1"
   ]
  },
  {
   "cell_type": "code",
   "execution_count": null,
   "metadata": {},
   "outputs": [],
   "source": [
    "a"
   ]
  },
  {
   "cell_type": "markdown",
   "metadata": {},
   "source": [
    "2/"
   ]
  },
  {
   "cell_type": "code",
   "execution_count": null,
   "metadata": {},
   "outputs": [],
   "source": [
    "a=4\n",
    "b=7\n",
    "a=b"
   ]
  },
  {
   "cell_type": "code",
   "execution_count": null,
   "metadata": {},
   "outputs": [],
   "source": [
    "a\n",
    "b"
   ]
  },
  {
   "cell_type": "markdown",
   "metadata": {},
   "source": [
    "3/"
   ]
  },
  {
   "cell_type": "code",
   "execution_count": null,
   "metadata": {},
   "outputs": [],
   "source": [
    "a=4\n",
    "b=7\n",
    "b=a"
   ]
  },
  {
   "cell_type": "code",
   "execution_count": null,
   "metadata": {},
   "outputs": [],
   "source": [
    "a\n",
    "b"
   ]
  },
  {
   "cell_type": "markdown",
   "metadata": {},
   "source": [
    "## Sorties\n",
    "En mode console, pour afficher la valeur d’une variable, il suffit de taper son nom (exemple : exercice 1). \n",
    "En mode éditeur, on doit utiliser la fonction :\n",
    "print(…)\n",
    "Par exemple, pour afficher la valeur d’une variable nommée dist, on taperait :\n",
    "print(dist)\n",
    "(il faut que la variable dist ait été créée avant…).\n",
    "Pour afficher un texte, on utilise des guillemets :\n",
    "print(\"Ce programme calcule des distances.\")\n",
    "Pour mixer les deux, on sépare avec des virgules :\n",
    "print(\"La distance calculée est :\",dist)"
   ]
  },
  {
   "cell_type": "markdown",
   "metadata": {},
   "source": [
    "\n",
    "## Exercice 2 : Sorties\n",
    "Compléter, les algorithmes suivants de façon à ce qu’ils affichent ce qui est écrit\n",
    "dans la console quand on les exécute ; on n’utilisera pas de calculatrice ici."
   ]
  },
  {
   "cell_type": "markdown",
   "metadata": {},
   "source": [
    "1/ L'aire du rectangle est 28617148560"
   ]
  },
  {
   "cell_type": "code",
   "execution_count": null,
   "metadata": {},
   "outputs": [],
   "source": [
    "longueur=238238\n",
    "largeur=120120\n",
    "print()"
   ]
  },
  {
   "cell_type": "markdown",
   "metadata": {},
   "source": [
    "2/ 2 puissance 1000 = 10715086071862673209484250490600018105614048117055336074437503883703510511249361224931983788156958581275946729175531468251871452856923140435984577574698574803934567774824230985421074605062371141877954182153046474983581941267398767559165543946077062914571196477686542167660429831652624386837205668069376"
   ]
  },
  {
   "cell_type": "code",
   "execution_count": null,
   "metadata": {},
   "outputs": [],
   "source": [
    "print( )"
   ]
  },
  {
   "cell_type": "markdown",
   "metadata": {},
   "source": [
    "## Types de données\n",
    "L’informatique est la science de la manipulation des informations, ou des données.\n",
    "Celles-ci peuvent se présenter sous différents aspects, entre autres :\n",
    "• des nombres entiers, tels que : 4 ; 236 ; – 21 etc.\n",
    "• des nombres réels, tels que : 3.14 ; – 1.732 etc.\n",
    "• du texte , par exemple : \"Bonjour tout le monde !\"\n",
    "• des tableaux ou listes contenant des données, par exemple :\n",
    "jours = [\"Samedi\",\"Dimanche\",\"Lundi\",\"Mardi\",\"Mercredi\",\"Jeudi\",\"Vendredi\"]\n",
    "Il est parfois nécessaire de passer d’un type à l’autre, on appelle cela un trans-typage."
   ]
  },
  {
   "cell_type": "markdown",
   "metadata": {},
   "source": [
    "## Exercice 3 : Types de données"
   ]
  },
  {
   "cell_type": "markdown",
   "metadata": {},
   "source": [
    "1/ Executer les commandes suivantes et observez bien les réponses de Python :"
   ]
  },
  {
   "cell_type": "code",
   "execution_count": null,
   "metadata": {},
   "outputs": [],
   "source": [
    "a = 30\n",
    "type(a)"
   ]
  },
  {
   "cell_type": "code",
   "execution_count": null,
   "metadata": {},
   "outputs": [],
   "source": [
    " b=\"test !\"\n",
    "type(b)"
   ]
  },
  {
   "cell_type": "code",
   "execution_count": null,
   "metadata": {},
   "outputs": [],
   "source": [
    "c = \"30\"\n",
    "type(c)"
   ]
  },
  {
   "cell_type": "markdown",
   "metadata": {},
   "source": [
    "2/ Comment Python appelle-t-il les nombres à virgules ?"
   ]
  },
  {
   "cell_type": "code",
   "execution_count": null,
   "metadata": {},
   "outputs": [],
   "source": [
    "d=1.4\n",
    "type(d)"
   ]
  },
  {
   "cell_type": "markdown",
   "metadata": {},
   "source": [
    "3/ Executer les commandes suivantes et observez bien les réponses de Python :"
   ]
  },
  {
   "cell_type": "code",
   "execution_count": null,
   "metadata": {},
   "outputs": [],
   "source": [
    "nb1 = 10\n",
    "nb2 = 20\n",
    "nb1+nb2"
   ]
  },
  {
   "cell_type": "code",
   "execution_count": null,
   "metadata": {},
   "outputs": [],
   "source": [
    "chn1 = \"encore un \"\n",
    "chn2 = \"test\"\n",
    "chn1+chn2"
   ]
  },
  {
   "cell_type": "code",
   "execution_count": null,
   "metadata": {},
   "outputs": [],
   "source": [
    "chn2+nb1"
   ]
  },
  {
   "cell_type": "markdown",
   "metadata": {},
   "source": [
    "## Exercice 4 : Sorties (bis)\n",
    "Compléter, les algorithmes suivants de façon à ce qu’ils affichent ce qui est écrit dans la console quand on les exécute.\n",
    "Vous pourrez changer le nom à la première ligne seulement et le reste du programme devra s’adapter…\n",
    "\n",
    "Vincent est le plus intelligent\n",
    "le plus fort est Vincent et c'est aussi le plus beau\n",
    "Vincent ! Vincent ! Vincent ! Vincent ! Vincent ! Vincent ! "
   ]
  },
  {
   "cell_type": "code",
   "execution_count": null,
   "metadata": {},
   "outputs": [],
   "source": [
    "nom=\"Vincent\"\n",
    "print()\n",
    "print()\n",
    "print()"
   ]
  },
  {
   "cell_type": "markdown",
   "metadata": {},
   "source": [
    "## Entrées\n",
    "Que se passe-t-il lorsqu’un utilisateur veut retirer de l’argent à un distributeur bancaire ?\n",
    "• le distributeur affiche une zone d’entrée de code et attend que l’utilisateur entre son code ;\n",
    "• le distributeur traite ensuite cette information (vérification du code puis actions adaptées).\n",
    "De même, pour qu’un utilisateur puisse entrer des données dans un algorithme existant, on utilise la commande Saisir (ou Lire ou Demander) en langage naturel.\n",
    "Cette commande se traduit en langage Python en\n",
    "input(…)\n",
    "Par exemple, la commande :\n",
    "votre_code = input(\"Quel est votre code ?\")\n",
    "affichera le texte « Quel est votre code ? », attendra la réponse de l’utilisateur et placera la réponse dans\n",
    "la variable votre_code (qu’on pourra utiliser plus tard, pour vérification par exemple)."
   ]
  },
  {
   "cell_type": "markdown",
   "metadata": {},
   "source": [
    "## Exercice 5 : Entrées\n",
    "1/ Écrivez un programme en Python qui demande à un utilisateur son prénom (par exemple : Toto) et affiche le message :\n",
    "Bonjour prénom_choisi (par exemple : Bonjour Toto)"
   ]
  },
  {
   "cell_type": "code",
   "execution_count": null,
   "metadata": {},
   "outputs": [],
   "source": []
  },
  {
   "cell_type": "markdown",
   "metadata": {},
   "source": [
    "2/ Testez le programme suivant et essayez de le réparer…"
   ]
  },
  {
   "cell_type": "code",
   "execution_count": null,
   "metadata": {},
   "outputs": [],
   "source": [
    "nombre=input(\"Choisis un nombre \")\n",
    "print('Le double de',nombre,' est ',2*nombre)"
   ]
  },
  {
   "cell_type": "markdown",
   "metadata": {},
   "source": [
    "La commande input(…) renvoie automatiquement du texte. Il sera ainsi parfois nécessaire de convertir ce\n",
    "texte en entier ou en réel, comme dans l’exemple ci-dessous :\n",
    "larg = input(\"Largeur du rectangle :\")\n",
    "larg = float(larg)\n",
    "ou directement :\n",
    "larg = float(input(\"Largeur du rectangle :\"))\n",
    "Exercice"
   ]
  }
 ],
 "metadata": {
  "kernelspec": {
   "display_name": "Python 3",
   "language": "python",
   "name": "python3"
  },
  "language_info": {
   "codemirror_mode": {
    "name": "ipython",
    "version": 3
   },
   "file_extension": ".py",
   "mimetype": "text/x-python",
   "name": "python",
   "nbconvert_exporter": "python",
   "pygments_lexer": "ipython3",
   "version": "3.7.6"
  }
 },
 "nbformat": 4,
 "nbformat_minor": 4
}
